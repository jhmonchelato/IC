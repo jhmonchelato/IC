{
 "cells": [
  {
   "cell_type": "code",
   "execution_count": 2,
   "id": "10ae1658",
   "metadata": {},
   "outputs": [],
   "source": [
    "import pandas as pd\n",
    "import numpy as np\n",
    "import re"
   ]
  },
  {
   "cell_type": "code",
   "execution_count": 32,
   "id": "b08e2dc0",
   "metadata": {
    "tags": []
   },
   "outputs": [
    {
     "data": {
      "text/html": [
       "<div>\n",
       "<style scoped>\n",
       "    .dataframe tbody tr th:only-of-type {\n",
       "        vertical-align: middle;\n",
       "    }\n",
       "\n",
       "    .dataframe tbody tr th {\n",
       "        vertical-align: top;\n",
       "    }\n",
       "\n",
       "    .dataframe thead th {\n",
       "        text-align: right;\n",
       "    }\n",
       "</style>\n",
       "<table border=\"1\" class=\"dataframe\">\n",
       "  <thead>\n",
       "    <tr style=\"text-align: right;\">\n",
       "      <th></th>\n",
       "      <th>0</th>\n",
       "      <th>1</th>\n",
       "      <th>2</th>\n",
       "      <th>3</th>\n",
       "      <th>4</th>\n",
       "      <th>5</th>\n",
       "      <th>6</th>\n",
       "      <th>7</th>\n",
       "      <th>8</th>\n",
       "      <th>9</th>\n",
       "      <th>...</th>\n",
       "      <th>14</th>\n",
       "      <th>15</th>\n",
       "      <th>16</th>\n",
       "      <th>17</th>\n",
       "      <th>18</th>\n",
       "      <th>19</th>\n",
       "      <th>20</th>\n",
       "      <th>21</th>\n",
       "      <th>22</th>\n",
       "      <th>23</th>\n",
       "    </tr>\n",
       "  </thead>\n",
       "  <tbody>\n",
       "    <tr>\n",
       "      <th>0</th>\n",
       "      <td>title</td>\n",
       "      <td>neuron_id</td>\n",
       "      <td>Neuron_name</td>\n",
       "      <td>Surface</td>\n",
       "      <td>Volume</td>\n",
       "      <td>Soma_Surface</td>\n",
       "      <td>N_stems</td>\n",
       "      <td>N_bifs</td>\n",
       "      <td>N_branch</td>\n",
       "      <td>Width</td>\n",
       "      <td>...</td>\n",
       "      <td>PathDistance</td>\n",
       "      <td>Branch_Order</td>\n",
       "      <td>Contraction</td>\n",
       "      <td>Fragmentation</td>\n",
       "      <td>Partition_asymmetry</td>\n",
       "      <td>Pk_classic</td>\n",
       "      <td>Bif_ampl_local</td>\n",
       "      <td>Fractal_Dim</td>\n",
       "      <td>Bif_ampl_remote</td>\n",
       "      <td>Length</td>\n",
       "    </tr>\n",
       "  </tbody>\n",
       "</table>\n",
       "<p>1 rows × 24 columns</p>\n",
       "</div>"
      ],
      "text/plain": [
       "      0          1            2        3       4             5        6   \\\n",
       "0  title  neuron_id  Neuron_name  Surface  Volume  Soma_Surface  N_stems   \n",
       "\n",
       "       7         8      9   ...            14            15           16  \\\n",
       "0  N_bifs  N_branch  Width  ...  PathDistance  Branch_Order  Contraction   \n",
       "\n",
       "              17                   18          19              20  \\\n",
       "0  Fragmentation  Partition_asymmetry  Pk_classic  Bif_ampl_local   \n",
       "\n",
       "            21               22      23  \n",
       "0  Fractal_Dim  Bif_ampl_remote  Length  \n",
       "\n",
       "[1 rows x 24 columns]"
      ]
     },
     "execution_count": 32,
     "metadata": {},
     "output_type": "execute_result"
    }
   ],
   "source": [
    "head = df_mouse.iloc[[0]]\n",
    "np.array(head)\n",
    "head"
   ]
  },
  {
   "cell_type": "code",
   "execution_count": 6,
   "id": "15b3ee5d",
   "metadata": {
    "scrolled": true
   },
   "outputs": [
    {
     "name": "stdout",
     "output_type": "stream",
     "text": [
      "Media das medidas: \n",
      "title\n",
      "N_stems         6.767824\n",
      "N_bifs        140.554435\n",
      "N_branch      287.876693\n",
      "Length      25647.653736\n",
      "dtype: float64\n",
      "\n",
      "10113\n"
     ]
    }
   ],
   "source": [
    "df = pd.read_csv('../dados/csv/conjunto-1-mouse-DSA.csv')\n",
    "df = df.set_index('title')\n",
    "df = df.T\n",
    "df = df.reset_index()\n",
    "\n",
    "df = df[['N_stems','N_bifs', 'N_branch', 'Length']]\n",
    "df = df.astype({\"N_stems\": float, \"N_bifs\": float, \"N_branch\": float, \"Length\": float})\n",
    "means = df.mean()\n",
    "print(f'Media das medidas: \\n{means}\\n')\n",
    "\n",
    "# Pega a menor diferenca entre respectivo atributo e a media geral do atributo\n",
    "\n",
    "distancias = []\n",
    "soma = 0\n",
    "for index, linha in df.iterrows():\n",
    "    \n",
    "    dist = np.sqrt((means['N_stems'] - linha['N_stems'])**2 + (means['N_branch'] - linha['N_branch'])**2 + \n",
    "                   (means['N_bifs'] - linha['N_bifs'])**2 + (means['Length'] - linha['Length'])**2)\n",
    "    \n",
    "    distancias.append(dist)\n",
    "    soma += 1\n",
    "\n",
    "    \n",
    "neuron = distancias.index(min(distancias))\n",
    "indices = np.argsort(distancias)\n",
    "df.iloc[indices[10]]\n",
    "print(soma)"
   ]
  },
  {
   "cell_type": "code",
   "execution_count": 77,
   "id": "3fb2d70b",
   "metadata": {},
   "outputs": [
    {
     "data": {
      "text/plain": [
       "'18465_00011-semi_r'"
      ]
     },
     "metadata": {},
     "output_type": "display_data"
    }
   ],
   "source": [
    "df = pd.read_csv('../dados/csv/conjunto-1-mouse-DSA.csv')\n",
    "df = df.set_index('title')\n",
    "df = df.T\n",
    "df = df.reset_index()\n",
    "display(df.loc[8809].Neuron_name)"
   ]
  },
  {
   "cell_type": "code",
   "execution_count": 5,
   "id": "8334f466",
   "metadata": {},
   "outputs": [
    {
     "name": "stdout",
     "output_type": "stream",
     "text": [
      "52.425634328924794\n"
     ]
    },
    {
     "name": "stderr",
     "output_type": "stream",
     "text": [
      "C:\\Users\\jh-mo\\AppData\\Local\\Programs\\Python\\Python310\\lib\\site-packages\\IPython\\core\\interactiveshell.py:3457: DtypeWarning: Columns (6) have mixed types.Specify dtype option on import or set low_memory=False.\n",
      "  exec(code_obj, self.user_global_ns, self.user_ns)\n"
     ]
    }
   ],
   "source": [
    "df_mouse = pd.read_csv('conjunto-1-mouse-FULL.csv')\n",
    "N = df_mouse['N_bifs']\n",
    "media = np.mean(N)\n",
    "print(media)"
   ]
  },
  {
   "cell_type": "code",
   "execution_count": 6,
   "id": "77077c6e",
   "metadata": {},
   "outputs": [
    {
     "name": "stdout",
     "output_type": "stream",
     "text": [
      "55.86080947680158\n"
     ]
    }
   ],
   "source": [
    "df_human = pd.read_csv('conjunto-1-human-DSA.csv')\n",
    "N = df_human['N_bifs']\n",
    "media = np.mean(N)\n",
    "print(media)"
   ]
  },
  {
   "cell_type": "code",
   "execution_count": 7,
   "id": "1ba6be0a",
   "metadata": {},
   "outputs": [
    {
     "name": "stdout",
     "output_type": "stream",
     "text": [
      "30.885871394905173\n"
     ]
    }
   ],
   "source": [
    "df_human = pd.read_csv('conjunto-1-human-FULL.csv')\n",
    "N = df_human['N_bifs']\n",
    "media = np.mean(N)\n",
    "print(media)"
   ]
  },
  {
   "cell_type": "code",
   "execution_count": null,
   "id": "a67a8399",
   "metadata": {},
   "outputs": [],
   "source": []
  }
 ],
 "metadata": {
  "kernelspec": {
   "display_name": "Python 3 (ipykernel)",
   "language": "python",
   "name": "python3"
  },
  "language_info": {
   "codemirror_mode": {
    "name": "ipython",
    "version": 3
   },
   "file_extension": ".py",
   "mimetype": "text/x-python",
   "name": "python",
   "nbconvert_exporter": "python",
   "pygments_lexer": "ipython3",
   "version": "3.11.0"
  }
 },
 "nbformat": 4,
 "nbformat_minor": 5
}
